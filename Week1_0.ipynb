{
  "metadata": {
    "language_info": {
      "codemirror_mode": {
        "name": "python",
        "version": 3
      },
      "file_extension": ".py",
      "mimetype": "text/x-python",
      "name": "python",
      "nbconvert_exporter": "python",
      "pygments_lexer": "ipython3",
      "version": "3.8"
    },
    "kernelspec": {
      "name": "python",
      "display_name": "Python (Pyodide)",
      "language": "python"
    }
  },
  "nbformat_minor": 4,
  "nbformat": 4,
  "cells": [
    {
      "cell_type": "code",
      "source": "import sys\nprint(sys. version)",
      "metadata": {
        "trusted": true
      },
      "execution_count": 9,
      "outputs": [
        {
          "name": "stdout",
          "text": "3.10.2 (main, Aug  9 2022, 13:42:49) [Clang 15.0.0 (https://github.com/llvm/llvm-project 7effcbda49ba32991b8955821b8f\n",
          "output_type": "stream"
        }
      ]
    },
    {
      "cell_type": "markdown",
      "source": "마크다운 문법 익히기",
      "metadata": {}
    },
    {
      "cell_type": "markdown",
      "source": "# 헤더",
      "metadata": {}
    },
    {
      "cell_type": "markdown",
      "source": "## 헤더",
      "metadata": {}
    },
    {
      "cell_type": "markdown",
      "source": "#### 4단계 헤더\n## 2단계 헤더\n##### 5단계 헤더",
      "metadata": {}
    },
    {
      "cell_type": "markdown",
      "source": "---\n***",
      "metadata": {}
    },
    {
      "cell_type": "markdown",
      "source": "줄바꿈 <br> 줄바꿈",
      "metadata": {}
    },
    {
      "cell_type": "markdown",
      "source": "*이탤릭체* <br> **볼드체**",
      "metadata": {}
    },
    {
      "cell_type": "markdown",
      "source": "~~취소선~~",
      "metadata": {}
    },
    {
      "cell_type": "markdown",
      "source": "> 블록 인용하기\n>> 블록 인용하기",
      "metadata": {}
    },
    {
      "cell_type": "markdown",
      "source": ">블록1\n>>블록2\n>>>블록3<br>\n>>블록1",
      "metadata": {}
    },
    {
      "cell_type": "markdown",
      "source": "* 목록\n\n**목록**\n1. 처음\n3. 둘째",
      "metadata": {}
    },
    {
      "cell_type": "markdown",
      "source": "1. 처음\n2. 두번째\n    3. 세번째",
      "metadata": {}
    },
    {
      "cell_type": "markdown",
      "source": "![download.png](attachment:c8d39f22-501a-496e-a171-7a4f00291744.png)",
      "metadata": {},
      "attachments": {
        "c8d39f22-501a-496e-a171-7a4f00291744.png": {
          "image/png": "[encoded data removed]"
        }
      }
    },
    {
      "cell_type": "markdown",
      "source": "\\#",
      "metadata": {}
    },
    {
      "cell_type": "markdown",
      "source": "[구글](https://www.google.com)",
      "metadata": {}
    },
    {
      "cell_type": "markdown",
      "source": "22in3ha@gmail.com",
      "metadata": {}
    },
    {
      "cell_type": "markdown",
      "source": "```python\nprint(\"hello world\")\n```\n\n- [ ] 할 일\n- [x] 한 일",
      "metadata": {}
    },
    {
      "cell_type": "markdown",
      "source": "헤더1|헤더2|헤더3|헤더4\n---|---|---|---|\nA|B|C|D\nE|F|G|H",
      "metadata": {}
    },
    {
      "cell_type": "markdown",
      "source": "$$x = {-b \\pm \\sqrt{b^2-4ac} \\over 2a}$$",
      "metadata": {}
    },
    {
      "cell_type": "code",
      "source": "print(\"Hello world\")",
      "metadata": {
        "trusted": true
      },
      "execution_count": 14,
      "outputs": [
        {
          "name": "stdout",
          "text": "Hello world\n",
          "output_type": "stream"
        }
      ]
    },
    {
      "cell_type": "code",
      "source": "",
      "metadata": {},
      "execution_count": null,
      "outputs": []
    }
  ]
}